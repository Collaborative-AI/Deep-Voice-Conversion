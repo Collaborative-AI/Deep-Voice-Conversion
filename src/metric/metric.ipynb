{
 "cells": [
  {
   "cell_type": "code",
   "execution_count": 1,
   "metadata": {},
   "source": [
    "import jiwer\n",
    "import torch, torchaudio\n",
    "from transformers import Wav2Vec2ForCTC, Wav2Vec2Tokenizer"
   ],
   "outputs": []
  },
  {
   "cell_type": "code",
   "execution_count": 34,
   "metadata": {},
   "source": [
    "# Check if CUDA is available\n",
    "print(\"CUDA Available:\", torch.cuda.is_available())\n",
    "\n",
    "# If CUDA is available, check which GPU is being used\n",
    "if torch.cuda.is_available():\n",
    "    print(\"CUDA Device Name:\", torch.cuda.get_device_name(0))\n",
    "    print(\"CUDA Device Count:\", torch.cuda.device_count())\n",
    "    print(\"Current CUDA Device:\", torch.cuda.current_device())"
   ],
   "outputs": []
  },
  {
   "cell_type": "code",
   "execution_count": 2,
   "metadata": {},
   "source": [
    "ASR_PRETRAINED_MODEL = \"facebook/wav2vec2-large-960h-lv60-self\"\n",
    "\n",
    "def load_asr():\n",
    "    device = torch.device(\"cuda\" if torch.cuda.is_available() else \"cpu\")\n",
    "    model = Wav2Vec2ForCTC.from_pretrained(ASR_PRETRAINED_MODEL).to(device)\n",
    "    tokenizer = Wav2Vec2Tokenizer.from_pretrained(ASR_PRETRAINED_MODEL)\n",
    "    models = {\"model\": model, \"tokenizer\": tokenizer}\n",
    "    return models"
   ],
   "outputs": []
  },
  {
   "cell_type": "code",
   "execution_count": 4,
   "metadata": {},
   "source": [
    "def wav_to_text(model, wav):\n",
    "    # Tokenize the input\n",
    "    inputs = model[\"tokenizer\"](wav, sampling_rate=16000, return_tensors=\"pt\", padding=\"longest\")\n",
    "\n",
    "    # Fix input shape if necessary\n",
    "    input_values = inputs.input_values.squeeze(1)  # Squeeze out the extra dimension\n",
    "\n",
    "    # Move tensors to the GPU if available\n",
    "    device = torch.device(\"cuda\" if torch.cuda.is_available() else \"cpu\")\n",
    "    input_values = input_values.to(device)\n",
    "\n",
    "    # Get the model predictions (logits)\n",
    "    logits = model[\"model\"](input_values).logits\n",
    "    \n",
    "    # Get the predicted IDs\n",
    "    predicted_ids = torch.argmax(logits, dim=-1)\n",
    "    \n",
    "    # Decode the predicted IDs into the text (batch_decode returns a list, so we take [0])\n",
    "    result = model[\"tokenizer\"].batch_decode(predicted_ids)[0]\n",
    "\n",
    "    return result"
   ],
   "outputs": []
  },
  {
   "cell_type": "code",
   "execution_count": 5,
   "metadata": {},
   "source": [
    "models = load_asr()"
   ],
   "outputs": []
  },
  {
   "cell_type": "code",
   "execution_count": 6,
   "metadata": {},
   "source": [
    "# Load your wav file using torchaudio\n",
    "def load_wav_file(file_path):\n",
    "    waveform, sample_rate = torchaudio.load(file_path)\n",
    "\n",
    "    # Resample if necessary (Wav2Vec2 expects 16kHz)\n",
    "    if sample_rate != 16000:\n",
    "        resampler = torchaudio.transforms.Resample(orig_freq=sample_rate, new_freq=16000)\n",
    "        waveform = resampler(waveform)\n",
    "\n",
    "    return waveform"
   ],
   "outputs": []
  },
  {
   "cell_type": "code",
   "execution_count": 7,
   "metadata": {},
   "source": [
    "wav = load_wav_file(r\"C:\\Users\\tuanp\\Desktop\\DDDM-VC\\DDDM-VC\\converted\\src_to_tar.wav\")"
   ],
   "outputs": []
  },
  {
   "cell_type": "code",
   "execution_count": 8,
   "metadata": {},
   "source": [
    "wav"
   ],
   "outputs": []
  },
  {
   "cell_type": "code",
   "execution_count": 9,
   "metadata": {},
   "source": [
    "wav2 = load_wav_file(r\"C:\\Users\\tuanp\\Desktop\\DDDM-VC\\DDDM-VC\\preprocess\\workspace\\ha0\\data\\src.wav\")"
   ],
   "outputs": []
  },
  {
   "cell_type": "code",
   "execution_count": 10,
   "metadata": {},
   "source": [
    "convert = wav_to_text(models, wav)\n",
    "convert"
   ],
   "outputs": []
  },
  {
   "cell_type": "code",
   "execution_count": 11,
   "metadata": {},
   "source": [
    "original = wav_to_text(models, wav2)\n",
    "convert"
   ],
   "outputs": []
  },
  {
   "cell_type": "code",
   "execution_count": 12,
   "metadata": {},
   "source": [
    "jiwer.cer(convert, original)"
   ],
   "outputs": []
  },
  {
   "cell_type": "markdown",
   "metadata": {},
   "source": [
    "### Measure speaker similarity"
   ]
  },
  {
   "cell_type": "code",
   "execution_count": 37,
   "metadata": {},
   "source": [
    "import torch\n",
    "import torchaudio\n",
    "from transformers import Wav2Vec2Processor, WavLMForCTC\n",
    "from scipy.spatial.distance import cosine\n",
    "\n",
    "# Load pre-trained WavLM model and Wav2Vec2Processor (acts as feature extractor)\n",
    "device = torch.device(\"cuda\" if torch.cuda.is_available() else \"cpu\")\n",
    "processor = Wav2Vec2Processor.from_pretrained('patrickvonplaten/wavlm-libri-clean-100h-base-plus')\n",
    "model = WavLMForCTC.from_pretrained('patrickvonplaten/wavlm-libri-clean-100h-base-plus').to(device)\n",
    "\n",
    "# Load the wav file using torchaudio\n",
    "def load_wav_file1(file_path):\n",
    "    waveform, sample_rate = torchaudio.load(file_path)\n",
    "    return waveform, sample_rate\n",
    "\n",
    "# Extract WavLM embeddings\n",
    "def get_wavlm_embedding(file_path):\n",
    "    waveform, sample_rate = load_wav_file1(file_path)\n",
    "\n",
    "    # Resample to 16kHz if necessary\n",
    "    if sample_rate != 16000:\n",
    "        resampler = torchaudio.transforms.Resample(orig_freq=sample_rate, new_freq=16000)\n",
    "        waveform = resampler(waveform)\n",
    "        \n",
    "    waveform = waveform.squeeze()\n",
    "\n",
    "    # Process the waveform using the feature extractor\n",
    "    inputs = processor(waveform, sampling_rate=16000, return_tensors=\"pt\", padding=True)\n",
    "    input_values = inputs.input_values.to(device)\n",
    "\n",
    "    # Extract WavLM embeddings\n",
    "    with torch.no_grad():\n",
    "        outputs = model(**input_values)  # Outputs are CausalLMOutput with logits\n",
    "        logits = outputs.logits  # Access the logits\n",
    "\n",
    "        # Average over time steps to create a speaker embedding\n",
    "        embedding = logits.mean(dim=1).squeeze()  # Average over time steps\n",
    "\n",
    "    return embedding.cpu()\n",
    "\n",
    "# Compute cosine similarity between two embeddings\n",
    "def compute_similarity(embedding1, embedding2):\n",
    "    return 1 - cosine(embedding1.numpy(), embedding2.numpy())\n",
    "\n",
    "\n"
   ],
   "outputs": []
  },
  {
   "cell_type": "code",
   "execution_count": 43,
   "metadata": {},
   "source": [
    "import torch\n",
    "import torchaudio\n",
    "from transformers import Wav2Vec2Processor, WavLMModel\n",
    "from scipy.spatial.distance import cosine\n",
    "\n",
    "# Load pre-trained WavLM model and processor\n",
    "processor = Wav2Vec2Processor.from_pretrained('patrickvonplaten/wavlm-libri-clean-100h-base-plus')\n",
    "model = WavLMForCTC.from_pretrained('patrickvonplaten/wavlm-libri-clean-100h-base-plus')\n",
    "\n",
    "# Check if CUDA is available and move the model to GPU if it is\n",
    "device = torch.device(\"cuda\" if torch.cuda.is_available() else \"cpu\")\n",
    "model = model.to(device)  # Move the model to GPU\n",
    "\n",
    "# Load the wav file using torchaudio\n",
    "def load_wav_file(file_path):\n",
    "    waveform, sample_rate = torchaudio.load(file_path)\n",
    "    return waveform, sample_rate\n",
    "\n",
    "# Extract WavLM logits\n",
    "def get_wavlm_logits(file_path):\n",
    "    waveform, sample_rate = load_wav_file(file_path)\n",
    "\n",
    "    # Resample to 16kHz if necessary\n",
    "    if sample_rate != 16000:\n",
    "        resampler = torchaudio.transforms.Resample(orig_freq=sample_rate, new_freq=16000)\n",
    "        waveform = resampler(waveform)\n",
    "\n",
    "    # Squeeze the waveform to remove any extra dimensions\n",
    "    waveform = waveform.squeeze()\n",
    "\n",
    "    # Process the waveform using the feature extractor\n",
    "    inputs = processor(waveform, sampling_rate=16000, return_tensors=\"pt\", padding=True)\n",
    "\n",
    "    # Move inputs to GPU if available\n",
    "    input_values = inputs.input_values.to(device)\n",
    "\n",
    "    # Extract WavLM logits\n",
    "    with torch.no_grad():\n",
    "        outputs = model(input_values)  # Get logits instead of hidden states\n",
    "        logits = outputs.logits  # Access the logits\n",
    "\n",
    "        # Average over time steps to create a speaker embedding from the logits\n",
    "        embedding = logits.mean(dim=1).squeeze()  # Average over time steps\n",
    "\n",
    "    return embedding.cpu()  # Move embedding back to CPU for further processing\n",
    "\n",
    "# Compute cosine similarity between two embeddings\n",
    "def compute_similarity(embedding1, embedding2):\n",
    "    return 1 - cosine(embedding1.numpy(), embedding2.numpy())\n"
   ],
   "outputs": []
  },
  {
   "cell_type": "code",
   "execution_count": 44,
   "metadata": {},
   "source": [
    "# Example usage\n",
    "embedding1 = get_wavlm_embedding(r\"C:\\Users\\tuanp\\Desktop\\DDDM-VC\\DDDM-VC\\converted\\src_to_tar.wav\")\n",
    "embedding2 = get_wavlm_embedding(r\"C:\\Users\\tuanp\\Desktop\\DDDM-VC\\DDDM-VC\\preprocess\\workspace\\ha0\\data\\src.wav\")\n",
    "\n",
    "# Compute the similarity\n",
    "similarity = compute_similarity(embedding1, embedding2)\n",
    "print(f\"Similarity: {similarity}\")"
   ],
   "outputs": []
  }
 ],
 "metadata": {
  "kernelspec": {
   "display_name": "Python 3",
   "language": "python",
   "name": "python3"
  },
  "language_info": {
   "codemirror_mode": {
    "name": "ipython",
    "version": 3
   },
   "file_extension": ".py",
   "mimetype": "text/x-python",
   "name": "python",
   "nbconvert_exporter": "python",
   "pygments_lexer": "ipython3",
   "version": "3.9.19"
  }
 },
 "nbformat": 4,
 "nbformat_minor": 2
}
